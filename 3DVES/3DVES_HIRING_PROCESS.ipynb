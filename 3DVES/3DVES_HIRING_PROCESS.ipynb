{
 "cells": [
  {
   "cell_type": "code",
   "execution_count": 62,
   "id": "2c21b759-1768-4df1-a175-0f5e0f6cf352",
   "metadata": {},
   "outputs": [],
   "source": [
    "import numpy as np\n",
    "import matplotlib.pylab as plt"
   ]
  },
  {
   "cell_type": "code",
   "execution_count": 63,
   "id": "d7d2d4ec-4fb4-4e46-ab61-96d3574ad41c",
   "metadata": {},
   "outputs": [],
   "source": [
    "vector = [[0, 0], [1, 1]]\n",
    "point = 0, 1"
   ]
  },
  {
   "cell_type": "code",
   "execution_count": 61,
   "id": "147f6492-e11b-40d4-971c-bce51ec9b1ac",
   "metadata": {},
   "outputs": [
    {
     "data": {
      "text/plain": [
       "<matplotlib.collections.PathCollection at 0x7fdf2fd936d0>"
      ]
     },
     "execution_count": 61,
     "metadata": {},
     "output_type": "execute_result"
    },
    {
     "data": {
      "image/png": "[encoded data removed]",
      "text/plain": [
       "<Figure size 432x288 with 1 Axes>"
      ]
     },
     "metadata": {
      "needs_background": "light"
     },
     "output_type": "display_data"
    }
   ],
   "source": [
    "plt.plot((vector[0][0],vector[1][0]), (vector[0][1], vector[1][1]))\n",
    "plt.scatter(point[0],point[1])\n",
    "plt.scatter(vector[1][0],vector[1][1], marker=\"^\")"
   ]
  },
  {
   "cell_type": "code",
   "execution_count": 40,
   "id": "a9c903a2-9c38-4262-8a68-6d86e6f48a6e",
   "metadata": {},
   "outputs": [],
   "source": [
    "def point_vs_vector(point, vector):\n",
    "    m = (vector[1][1]-vector[0][1])/(vector[1][0]-vector[0][0])\n",
    "    if( point[1] == (m*(point[0]-vector[0][0])) + (vector[0][1]) ):\n",
    "        return 0\n",
    "    elif( vector[1][1]-vector[0][1] > 0 and point[1] > (m*(point[0]-vector[0][0])) + (vector[0][1])):\n",
    "        return -1"
   ]
  },
  {
   "cell_type": "code",
   "execution_count": 41,
   "id": "2b14919f-6b93-463b-a9ad-ac0b9820bba4",
   "metadata": {},
   "outputs": [],
   "source": [
    "point_vs_vector(point,vector)"
   ]
  },
  {
   "cell_type": "code",
   "execution_count": 43,
   "id": "997964f5-ac4f-4df4-b8b8-a28f36013a6a",
   "metadata": {},
   "outputs": [
    {
     "data": {
      "text/plain": [
       "-1"
      ]
     },
     "execution_count": 43,
     "metadata": {},
     "output_type": "execute_result"
    }
   ],
   "source": [
    "vector[1][1]-vector[0][1]"
   ]
  },
  {
   "cell_type": "code",
   "execution_count": null,
   "id": "58a748ba-5164-4ad9-bf85-5a18b75faaf3",
   "metadata": {},
   "outputs": [],
   "source": []
  }
 ],
 "metadata": {
  "kernelspec": {
   "display_name": "Python 3 (ipykernel)",
   "language": "python",
   "name": "python3"
  },
  "language_info": {
   "codemirror_mode": {
    "name": "ipython",
    "version": 3
   },
   "file_extension": ".py",
   "mimetype": "text/x-python",
   "name": "python",
   "nbconvert_exporter": "python",
   "pygments_lexer": "ipython3",
   "version": "3.7.12"
  }
 },
 "nbformat": 4,
 "nbformat_minor": 5
}
