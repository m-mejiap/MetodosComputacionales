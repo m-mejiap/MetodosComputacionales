{
 "cells": [
  {
   "cell_type": "code",
   "execution_count": 1,
   "metadata": {},
   "outputs": [],
   "source": [
    "import ifcopenshell\n",
    "import ifcopenshell.geom\n",
    "import math\n",
    "import AddBar as AB"
   ]
  },
  {
   "cell_type": "code",
   "execution_count": 2,
   "metadata": {},
   "outputs": [],
   "source": [
    "nameFile=\"Complete - PRMIN.ifc\"\n",
    "nameFileTbar = \"TBar.ifc\"\n",
    "nameFileLbar = \"LBar.ifc\""
   ]
  },
  {
   "cell_type": "code",
   "execution_count": 3,
   "metadata": {},
   "outputs": [],
   "source": [
    "ifc_file = ifcopenshell.open(nameFile)"
   ]
  },
  {
   "cell_type": "code",
   "execution_count": 4,
   "metadata": {},
   "outputs": [],
   "source": [
    "mainIfc=AB.CreateBar(ifc_file)"
   ]
  },
  {
   "cell_type": "code",
   "execution_count": 5,
   "metadata": {},
   "outputs": [],
   "source": [
    "depth=11.81\n",
    "angle=math.radians(0)\n",
    "ifc_file_element = ifcopenshell.open(nameFileTbar)\n",
    "mainIfc.shape(ifc_file_element,depth)\n",
    "for i in range(40,53,2):\n",
    "    point=(-40.2131469, -float(i+0.1), 8.98)\n",
    "    mainIfc.createbar('Tbar',point)\n",
    "\n"
   ]
  },
  {
   "cell_type": "code",
   "execution_count": 6,
   "metadata": {},
   "outputs": [],
   "source": [
    "depth=13.52\n",
    "angle=math.radians(90)\n",
    "ifc_file_element = ifcopenshell.open(nameFileTbar)\n",
    "mainIfc.shape(ifc_file_element,depth)\n",
    "for i in range(30,39,2):\n",
    "    point=(-float(i+0.3), -52.78504, 8.99041667)\n",
    "    mainIfc.createbar('Tbar',point,angle)\n"
   ]
  },
  {
   "cell_type": "code",
   "execution_count": 7,
   "metadata": {},
   "outputs": [],
   "source": [
    "depth=13.52\n",
    "angle=math.radians(90)\n",
    "ifc_file_element = ifcopenshell.open(nameFileLbar)\n",
    "mainIfc.shape(ifc_file_element,depth)\n",
    "point=(-28.40064, -52.78504, 8.97)\n",
    "mainIfc.createbar('Lbar',point,angle)"
   ]
  },
  {
   "cell_type": "code",
   "execution_count": 8,
   "metadata": {},
   "outputs": [],
   "source": [
    "depth=13.52\n",
    "angle=math.radians(-90)\n",
    "ifc_file_element = ifcopenshell.open(nameFileLbar)\n",
    "mainIfc.shape(ifc_file_element,depth)\n",
    "point=(-40.21314693554339, -39.26421481288551, 8.97)\n",
    "mainIfc.createbar('Lbar',point,angle)"
   ]
  },
  {
   "cell_type": "code",
   "execution_count": 9,
   "metadata": {},
   "outputs": [],
   "source": [
    "depth=11.81\n",
    "angle=math.radians(0)\n",
    "ifc_file_element = ifcopenshell.open(nameFileLbar)\n",
    "mainIfc.shape(ifc_file_element,depth)\n",
    "point=(-40.21314693554339, -52.78504, 8.98)\n",
    "mainIfc.createbar('Lbar',point,angle)"
   ]
  },
  {
   "cell_type": "code",
   "execution_count": 10,
   "metadata": {},
   "outputs": [],
   "source": [
    "depth=11.81\n",
    "angle=math.radians(180)\n",
    "ifc_file_element = ifcopenshell.open(nameFileLbar)\n",
    "mainIfc.shape(ifc_file_element,depth)\n",
    "point=(-28.40064, -39.26421481288551, 8.98)\n",
    "mainIfc.createbar('Lbar',point,angle)"
   ]
  },
  {
   "cell_type": "code",
   "execution_count": 11,
   "metadata": {},
   "outputs": [],
   "source": [
    "ifc_file.write('ExampleTbar.ifc')"
   ]
  }
 ],
 "metadata": {
  "interpreter": {
   "hash": "be97ae5eb87db5741409f1531091abe863ef836bbe5d0d83a86b920a0f6639e1"
  },
  "kernelspec": {
   "display_name": "Python 3 (ipykernel)",
   "language": "python",
   "name": "python3"
  },
  "language_info": {
   "codemirror_mode": {
    "name": "ipython",
    "version": 3
   },
   "file_extension": ".py",
   "mimetype": "text/x-python",
   "name": "python",
   "nbconvert_exporter": "python",
   "pygments_lexer": "ipython3",
   "version": "3.8.12"
  }
 },
 "nbformat": 4,
 "nbformat_minor": 2
}
