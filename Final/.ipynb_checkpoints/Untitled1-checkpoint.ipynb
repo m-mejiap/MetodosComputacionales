{
 "cells": [
  {
   "cell_type": "code",
   "execution_count": 52,
   "metadata": {},
   "outputs": [],
   "source": [
    "import numpy as np\n",
    "import matplotlib.pyplot as plt\n",
    "from scipy.fftpack import fft, fftfreq, ifft\n",
    "import matplotlib\n",
    "matplotlib.use('Agg')\n",
    "\n",
    "n = 1280 # number of point in the whole interval\n",
    "f = 200.0 #  frequency in Hz\n",
    "dt = 1 / (f * 320 ) #320 samples per unit frequency\n",
    "t = np.linspace( 0, (n-1)*dt, n)\n",
    "amp = np.cos(2 * np.pi * f * t) - 0.4 * np.sin(2 * np.pi * (2*f) * t ) + np.random.random(n)"
   ]
  },
  {
   "cell_type": "code",
   "execution_count": 53,
   "metadata": {},
   "outputs": [],
   "source": [
    "# Tiene una serie de tiempo, donde los datos de tiempo estan almacenados en un arreglo t y los datos de amplitud en un arreglo amp.\n",
    "#1) Usando los paquetes de scipy de la transformada de Fourier, haga un FILTRO de la senial que elimine las frecuencias mayores a 1000Hz en las senial original.\n",
    "#2) Haga una grafica de la senial original y la senial filtarada y guardela SIN MOSTRARLA en filtro.pdf"
   ]
  },
  {
   "cell_type": "code",
   "execution_count": 54,
   "metadata": {},
   "outputs": [],
   "source": [
    "# SU FILTRO\n",
    "trans = np.fft.fft(amp)\n",
    "freq = np.fft.fftfreq(n,dt)\n",
    "for i in range(len(freq)):\n",
    "    if(freq[i]>1000 or freq[i]<-1000):\n",
    "        trans[i] = 0\n",
    "new = np.fft.ifft(trans)"
   ]
  },
  {
   "cell_type": "code",
   "execution_count": 57,
   "metadata": {},
   "outputs": [
    {
     "name": "stderr",
     "output_type": "stream",
     "text": [
      "/srv/conda/envs/notebook/lib/python3.7/site-packages/ipykernel_launcher.py:2: RuntimeWarning: More than 20 figures have been opened. Figures created through the pyplot interface (`matplotlib.pyplot.figure`) are retained until explicitly closed and may consume too much memory. (To control this warning, see the rcParam `figure.max_open_warning`).\n",
      "  \n"
     ]
    }
   ],
   "source": [
    "# SU GRAFICA\n",
    "plt.figure()\n",
    "plt.plot(t,amp,color=\"dodgerblue\",label=\"Señal original.\")\n",
    "plt.plot(t,new, color=\"blue\", label=\"Señal filtrada.\")\n",
    "plt.xlabel(\"Tiempo.\")\n",
    "plt.ylabel(\"Amplitud.\")\n",
    "plt.legend()\n",
    "plt.savefig(\"filtro.pdf\")"
   ]
  },
  {
   "cell_type": "code",
   "execution_count": null,
   "metadata": {},
   "outputs": [],
   "source": []
  },
  {
   "cell_type": "code",
   "execution_count": null,
   "metadata": {},
   "outputs": [],
   "source": []
  },
  {
   "cell_type": "code",
   "execution_count": null,
   "metadata": {},
   "outputs": [],
   "source": []
  }
 ],
 "metadata": {
  "kernelspec": {
   "display_name": "Python 3",
   "language": "python",
   "name": "python3"
  },
  "language_info": {
   "codemirror_mode": {
    "name": "ipython",
    "version": 3
   },
   "file_extension": ".py",
   "mimetype": "text/x-python",
   "name": "python",
   "nbconvert_exporter": "python",
   "pygments_lexer": "ipython3",
   "version": "3.7.3"
  }
 },
 "nbformat": 4,
 "nbformat_minor": 2
}
