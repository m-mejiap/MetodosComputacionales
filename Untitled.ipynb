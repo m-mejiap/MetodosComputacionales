{
 "cells": [
  {
   "cell_type": "code",
   "execution_count": 1,
   "metadata": {},
   "outputs": [],
   "source": [
    "import numpy as np\n",
    "import matplotlib.pylab as plt"
   ]
  },
  {
   "cell_type": "code",
   "execution_count": 2,
   "metadata": {},
   "outputs": [],
   "source": [
    "q = -1.6 * (10**(-19))\n",
    "B = 0.4\n",
    "m = 1.67 * (10**(-27))\n",
    "w = (q*B)/m\n",
    "v0 = 1.5 * (10**5)\n",
    "theta = 0\n",
    "v0x = -v0*np.sin(theta)\n",
    "v0y = v0*np.cos(theta)"
   ]
  },
  {
   "cell_type": "code",
   "execution_count": 3,
   "metadata": {},
   "outputs": [],
   "source": [
    "def RungeKuttaFourthOrderStep(x_old, y1_old, y2_old):\n",
    "    \n",
    "    k_1_prime1 = func_prime_1(x_old,y1_old, y2_old)\n",
    "    k_1_prime2 = func_prime_2(x_old,y1_old, y2_old)\n",
    "    \n",
    "    #first step\n",
    "    x1 = x_old + (dt/2.0)\n",
    "    y1_1 = y1_old + (dt/2.0) * k_1_prime1\n",
    "    y2_1 = y2_old + (dt/2.0) * k_1_prime2\n",
    "    k_2_prime1 = func_prime_1(x1, y1_1, y2_1)\n",
    "    k_2_prime2 = func_prime_2(x1, y1_1, y2_1)\n",
    "    \n",
    "    #second step\n",
    "    x2 = x_old + (dt/2.0)\n",
    "    y1_2 = y1_old + (dt/2.0) * k_2_prime1\n",
    "    y2_2 = y2_old + (dt/2.0) * k_2_prime2\n",
    "    k_3_prime1 = func_prime_1(x2, y1_2, y2_2)\n",
    "    k_3_prime2 = func_prime_2(x2, y1_2, y2_2)\n",
    "    \n",
    "    \n",
    "    #third\n",
    "    x3 = x_old + dt\n",
    "    y1_3 = y1_old + dt * k_3_prime1\n",
    "    y2_3 = y2_old + dt * k_3_prime2\n",
    "    k_4_prime1 = func_prime_1(x3, y1_3, y2_3)\n",
    "    k_4_prime2 = func_prime_2(x3, y1_3, y2_3)\n",
    "    \n",
    "    #fourth step\n",
    "    average_k_1 = (1.0/6.0)*(k_1_prime1 + 2.0*k_2_prime1 + 2.0*k_3_prime1 + k_4_prime1)\n",
    "    average_k_2 = (1.0/6.0)*(k_1_prime2 + 2.0*k_2_prime2 + 2.0*k_3_prime2 + k_4_prime2)\n",
    "    \n",
    "    x_new = x_old + dt\n",
    "    y_1_new = y1_old +dt* average_k_1\n",
    "    y_2_new= y2_old +dt* average_k_2\n",
    "    return x_new, y_1_new, y_2_new"
   ]
  },
  {
   "cell_type": "code",
   "execution_count": 4,
   "metadata": {},
   "outputs": [],
   "source": [
    "dt=0.00000001\n",
    "min_t = 0.0\n",
    "max_t = 0.01\n",
    "n_points = int((max_t-min_t)/dt)\n",
    "t = np.zeros(n_points)\n",
    "x = np.zeros(n_points)\n",
    "vx = np.zeros(n_points)\n",
    "y = np.zeros(n_points)\n",
    "vy = np.zeros(n_points)"
   ]
  },
  {
   "cell_type": "code",
   "execution_count": 5,
   "metadata": {},
   "outputs": [],
   "source": [
    "def func_prime_1(t, x, vx):\n",
    "    return (v0x*np.cos(w*t))+(v0y*np.sin(w*t))\n",
    "\n",
    "def func_prime_2(t, x, vx):\n",
    "    return w*(-v0x*np.sin(w*t))+(v0y*np.cos(w*t))\n",
    "\n",
    "t[0] = min_t\n",
    "x[0] = 0.0\n",
    "vx[0] = v0x   \n",
    "\n",
    "for i in range(1,n_points):\n",
    "    t[i],x[i],vx[i] = RungeKuttaFourthOrderStep(t[i-1], x[i-1], vx[i-1])\n",
    "\n",
    "#plt.plot(t,x)"
   ]
  },
  {
   "cell_type": "code",
   "execution_count": 6,
   "metadata": {},
   "outputs": [],
   "source": [
    "def func_prime_1(t, x, vx):\n",
    "    return (v0y*np.cos(w*t))+(-v0x*np.sin(w*t))\n",
    "\n",
    "def func_prime_2(t, x, vx):\n",
    "    return w*(-v0y*np.sin(w*t))+(-v0x*np.cos(w*t))\n",
    "\n",
    "t[0] = min_t\n",
    "y[0] = 0.0\n",
    "vy[0] = v0y  \n",
    "\n",
    "for i in range(1,n_points):\n",
    "    t[i],y[i],vy[i] = RungeKuttaFourthOrderStep(t[i-1], y[i-1], vy[i-1])\n",
    "\n",
    "#plt.plot(t,y)"
   ]
  },
  {
   "cell_type": "code",
   "execution_count": 9,
   "metadata": {
    "scrolled": false
   },
   "outputs": [
    {
     "data": {
      "text/plain": [
       "[<matplotlib.lines.Line2D at 0x7f3129949dd0>]"
      ]
     },
     "execution_count": 9,
     "metadata": {},
     "output_type": "execute_result"
    },
    {
     "data": {
      "image/png": "[encoded data removed]",
      "text/plain": [
       "<Figure size 360x360 with 1 Axes>"
      ]
     },
     "metadata": {
      "needs_background": "light"
     },
     "output_type": "display_data"
    }
   ],
   "source": [
    "import matplotlib as mpl\n",
    "mpl.rcParams['agg.path.chunksize'] = 10000\n",
    "\n",
    "plt.figure(figsize=(5,5))\n",
    "plt.plot(x,y)"
   ]
  },
  {
   "cell_type": "code",
   "execution_count": 7,
   "metadata": {},
   "outputs": [
    {
     "data": {
      "text/plain": [
       "2.505018843843157e-22"
      ]
     },
     "execution_count": 7,
     "metadata": {},
     "output_type": "execute_result"
    }
   ],
   "source": [
    "q*B*np.min(x)/2"
   ]
  },
  {
   "cell_type": "code",
   "execution_count": 8,
   "metadata": {},
   "outputs": [
    {
     "data": {
      "text/plain": [
       "2.505e-22"
      ]
     },
     "execution_count": 8,
     "metadata": {},
     "output_type": "execute_result"
    }
   ],
   "source": [
    "m*v0"
   ]
  },
  {
   "cell_type": "code",
   "execution_count": null,
   "metadata": {},
   "outputs": [],
   "source": []
  },
  {
   "cell_type": "code",
   "execution_count": null,
   "metadata": {},
   "outputs": [],
   "source": []
  },
  {
   "cell_type": "code",
   "execution_count": null,
   "metadata": {},
   "outputs": [],
   "source": []
  }
 ],
 "metadata": {
  "kernelspec": {
   "display_name": "Python 3",
   "language": "python",
   "name": "python3"
  },
  "language_info": {
   "codemirror_mode": {
    "name": "ipython",
    "version": 3
   },
   "file_extension": ".py",
   "mimetype": "text/x-python",
   "name": "python",
   "nbconvert_exporter": "python",
   "pygments_lexer": "ipython3",
   "version": "3.7.8"
  }
 },
 "nbformat": 4,
 "nbformat_minor": 4
}
