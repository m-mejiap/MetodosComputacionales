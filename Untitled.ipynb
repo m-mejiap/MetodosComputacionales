{
 "cells": [
  {
   "cell_type": "code",
   "execution_count": 11,
   "id": "06d26d5c",
   "metadata": {},
   "outputs": [],
   "source": [
    "import matplotlib.pyplot as plt\n",
    "import ezdxf\n",
    "from shapely.geometry import LineString, Polygon, Point\n",
    "import numpy as np\n",
    "from scipy import spatial\n",
    "from shapely import affinity"
   ]
  },
  {
   "cell_type": "code",
   "execution_count": 12,
   "id": "175e5c63",
   "metadata": {},
   "outputs": [],
   "source": [
    "path=\"./Examples/Input/3DVESBUILDINGDXF/3DVESBUILDING_Reflected Ceiling Plan - LEVEL 01_02152022.dxf\"\n",
    "doc = ezdxf.readfile(path)\n",
    "msp = doc.modelspace()\n",
    "\n",
    "faces=[]\n",
    "GridPoints = []\n",
    "basePoints = []\n",
    "i=0\n",
    "j=0\n",
    "names = []\n",
    "spaces = []\n",
    "for flag_ref in msp.query('HATCH'):\n",
    "    name = flag_ref.dxf.pattern_name\n",
    "    hatch_name =name.find('FP')\n",
    "    hatch_layer=flag_ref.dxf.layer.find('CLNG')\n",
    "    if hatch_name != -1 and hatch_layer != -1:\n",
    "        patterns = flag_ref.pattern.lines\n",
    "        paths = flag_ref.paths.default_paths()\n",
    "        space = {\"name\":name,\"FP_\":[]}\n",
    "        \n",
    "        if len(patterns) == 2:\n",
    "            for path in flag_ref.paths:\n",
    "                face = {\"face\":[]}\n",
    "                edges = path.edges\n",
    "                plotface =[]\n",
    "                for edge in edges:\n",
    "                    point= []\n",
    "                    b=edge.start\n",
    "                    point.append(edge.start.x)\n",
    "                    point.append(edge.start.y)\n",
    "                    plotface.append(edge.start.x)\n",
    "                    plotface.append(edge.start.y)\n",
    "                    face[\"face\"].append(point)\n",
    "\n",
    "                space[\"FP_\"].append(face)\n",
    "        \n",
    "            for pattern in patterns:\n",
    "                \n",
    "                angle = pattern.angle\n",
    "                angle_dict = {\"Angle\":[]}\n",
    "                angle_dict[\"Angle\"].append(angle)\n",
    "                space[\"FP_\"].append(angle_dict)\n",
    "            \n",
    "                basePoint = {\"BasePoint\":[]}\n",
    "                base_point_x = pattern.base_point.x\n",
    "                base_point_y  = pattern.base_point.y\n",
    "                base_point = [base_point_x,base_point_y]\n",
    "                basePoint[\"BasePoint\"].append(base_point)\n",
    "                space[\"FP_\"].append(basePoint)\n",
    "        \n",
    "        \n",
    "                offset = {\"Offset\":[]}\n",
    "                offset_x = pattern.offset.x\n",
    "                offset_y = pattern.offset.y\n",
    "                offset_point = [offset_x,offset_y]\n",
    "                offset[\"Offset\"].append(offset_point)\n",
    "                space[\"FP_\"].append(offset)\n",
    "        \n",
    "                point= []\n",
    "                tr_point = {\"TransltdPoint\":[]}\n",
    "                tr_point[\"TransltdPoint\"].append([base_point_x+offset_x,base_point_y+offset_y])\n",
    "                space[\"FP_\"].append(tr_point)\n",
    "            spaces.append(space)\n",
    "            \n",
    "        if len(patterns) != 2:\n",
    "            for path in flag_ref.paths:\n",
    "                face = {\"face\":[]}\n",
    "                edges = path.edges\n",
    "                plotface =[]\n",
    "                for edge in edges:\n",
    "                    point= []\n",
    "                    b=edge.start\n",
    "                    point.append(edge.start.x)\n",
    "                    point.append(edge.start.y)\n",
    "                    plotface.append(edge.start.x)\n",
    "                    plotface.append(edge.start.y)\n",
    "                    face[\"face\"].append(point)\n",
    "\n",
    "                space[\"FP_\"].append(face)\n",
    "        \n",
    "            for pattern in patterns:\n",
    "                \n",
    "                angle_dict = {\"Angle\":[]}\n",
    "                angle_dict[\"Angle\"].append(None)\n",
    "                space[\"FP_\"].append(angle_dict)\n",
    "            \n",
    "                basePoint = {\"BasePoint\":[]}\n",
    "                basePoint[\"BasePoint\"].append(None)\n",
    "                space[\"FP_\"].append(basePoint)\n",
    "        \n",
    "        \n",
    "                offset = {\"Offset\":[]}\n",
    "                offset[\"Offset\"].append(None)\n",
    "                space[\"FP_\"].append(offset)\n",
    "        \n",
    "                tr_point = {\"TransltdPoint\":[]}\n",
    "                tr_point[\"TransltdPoint\"].append([None])\n",
    "                space[\"FP_\"].append(tr_point)\n",
    "                \n",
    "jsonToMethod1 = spaces"
   ]
  },
  {
   "cell_type": "code",
   "execution_count": 73,
   "id": "3a6d59a3",
   "metadata": {},
   "outputs": [
    {
     "data": {
      "image/png": "[encoded data removed]",
      "text/plain": [
       "<Figure size 432x288 with 1 Axes>"
      ]
     },
     "metadata": {
      "needs_background": "light"
     },
     "output_type": "display_data"
    }
   ],
   "source": [
    "prueba = jsonToMethod1[5]['FP_'][0]['face']\n",
    "     \n",
    "xx = []\n",
    "yy = []\n",
    "\n",
    "for elemento in prueba:\n",
    "    xx.append(elemento[0])\n",
    "    yy.append(elemento[1])\n",
    "    \n",
    "xx.append(xx[0])\n",
    "yy.append(yy[0])\n",
    "\n",
    "poligono = Polygon(prueba)\n",
    "latmin, lonmin, latmax, lonmax = poligono.bounds\n",
    "points = []\n",
    "plus = 5\n",
    "refPoint = (-224.904,-57.98300000000001)\n",
    "    \n",
    "for lat in np.arange(latmin-plus, latmax+plus, 4):\n",
    "    for lon in np.arange(lonmin-plus, lonmax+plus, 2):\n",
    "        points.append((round(lat,4), round(lon,4)))\n",
    "        \n",
    "tree = spatial.KDTree(points)\n",
    "result = tree.query(refPoint)\n",
    "\n",
    "adjust = []\n",
    "for element in points:\n",
    "    add = affinity.translate(Point(element), xoff=((refPoint[0])-(points[result[1]][0])), yoff=((refPoint[1])-(points[result[1]][1])), zoff=0.0)\n",
    "    adjust.append(add)\n",
    "    \n",
    "valid_points = []\n",
    "valid_points.extend([m for m in adjust if poligono.contains(m)])\n",
    "\n",
    "gridx = []\n",
    "gridy = []\n",
    "for p in valid_points:\n",
    "    gridx.append(p.x)\n",
    "    gridy.append(p.y)\n",
    "    \n",
    "plt.scatter(gridx,gridy,marker='.')\n",
    "plt.scatter((-224.904,-224.904,-228.904),(-57.98300000000001,-59.98300000000001,-57.98300000000001))\n",
    "plt.plot(xx,yy,marker='o')\n",
    "\n",
    "xses = []\n",
    "yses = []\n",
    "for element in valid_points:\n",
    "    if element.x not in xses:\n",
    "        xses.append(element.x)\n",
    "    if element.y not in yses:\n",
    "        yses.append(element.y)\n",
    "        \n",
    "lines = []\n",
    "lines2 = []\n",
    "for x1 in xses:\n",
    "    lines.append(LineString([(x1, lonmin), (x1, lonmax)]))\n",
    "for y1 in yses:\n",
    "    lines2.append(LineString([(latmin, y1), (latmax, y1)]))\n",
    "    \n",
    "for line in lines:\n",
    "    x1 = line.bounds[0]\n",
    "    y1 = line.bounds[1]\n",
    "    x2 = line.bounds[2]\n",
    "    y2 = line.bounds[3]\n",
    "    plt.plot((x1,x2),(y1,y2))\n",
    "    \n",
    "for line in lines2:\n",
    "    x1 = line.bounds[0]\n",
    "    y1 = line.bounds[1]\n",
    "    x2 = line.bounds[2]\n",
    "    y2 = line.bounds[3]\n",
    "    plt.plot((x1,x2),(y1,y2))"
   ]
  },
  {
   "cell_type": "code",
   "execution_count": 54,
   "id": "0d8e1380",
   "metadata": {},
   "outputs": [
    {
     "data": {
      "text/plain": [
       "[<matplotlib.lines.Line2D at 0x1752994de50>]"
      ]
     },
     "execution_count": 54,
     "metadata": {},
     "output_type": "execute_result"
    },
    {
     "data": {
      "image/png": "[encoded data removed]",
      "text/plain": [
       "<Figure size 432x288 with 1 Axes>"
      ]
     },
     "metadata": {
      "needs_background": "light"
     },
     "output_type": "display_data"
    }
   ],
   "source": [
    "linea = LineString([(xx[1]+5,yy[1]-5),(xx[1]+5,yy[1]+20)])\n",
    "inx, iny = poligono.intersection(linea).xy\n",
    "\n",
    "plt.scatter((xx[1]+5,xx[1]+5),(yy[1]-5,yy[1]+20))\n",
    "plt.plot(inx,iny)"
   ]
  },
  {
   "cell_type": "code",
   "execution_count": null,
   "id": "c783253f",
   "metadata": {},
   "outputs": [],
   "source": []
  },
  {
   "cell_type": "code",
   "execution_count": null,
   "id": "9e07c74c",
   "metadata": {},
   "outputs": [],
   "source": []
  }
 ],
 "metadata": {
  "kernelspec": {
   "display_name": "Python 3 (ipykernel)",
   "language": "python",
   "name": "python3"
  },
  "language_info": {
   "codemirror_mode": {
    "name": "ipython",
    "version": 3
   },
   "file_extension": ".py",
   "mimetype": "text/x-python",
   "name": "python",
   "nbconvert_exporter": "python",
   "pygments_lexer": "ipython3",
   "version": "3.8.12"
  }
 },
 "nbformat": 4,
 "nbformat_minor": 5
}
